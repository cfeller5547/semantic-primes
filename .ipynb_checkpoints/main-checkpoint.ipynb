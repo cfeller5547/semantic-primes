{
 "cells": [
  {
   "cell_type": "code",
   "execution_count": 11,
   "metadata": {},
   "outputs": [
    {
     "name": "stdout",
     "output_type": "stream",
     "text": [
      "3.8.1\n"
     ]
    },
    {
     "name": "stderr",
     "output_type": "stream",
     "text": [
      "[nltk_data] Downloading package words to\n",
      "[nltk_data]     C:\\Users\\chris\\AppData\\Roaming\\nltk_data...\n",
      "[nltk_data]   Package words is already up-to-date!\n",
      "[nltk_data] Downloading package punkt to\n",
      "[nltk_data]     C:\\Users\\chris\\AppData\\Roaming\\nltk_data...\n",
      "[nltk_data]   Package punkt is already up-to-date!\n"
     ]
    },
    {
     "name": "stdout",
     "output_type": "stream",
     "text": [
      "working cell\n"
     ]
    }
   ],
   "source": [
    "import nltk\n",
    "print(nltk.__version__)\n",
    "from gensim.models import Word2Vec\n",
    "from nltk.tokenize import word_tokenize\n",
    "nltk.download('words')\n",
    "nltk.download('punkt')\n",
    "\n",
    "#stores every word in english dictionary into a list called 'words'. It imports strings so we have to tokenize them\n",
    "words = nltk.corpus.words.words()\n",
    "\n",
    "#tokenizing the words - puts them into individual words so we can vectorize them\n",
    "tokenized_words = [word_tokenize(word) for word in words]\n",
    "\n",
    "#list comprehension checks if its alphabetic with isalpha(),\n",
    "#if so it puts it in lowercase and stores it in processed_words\n",
    "#the preprocessing of the words cleans them so that they can be effectively used in nlp\n",
    "processed_words = [word.lower() for words in tokenized_words for word in words if word.isalpha()]\n",
    "\n",
    "#training the model, min_count=1 ensures that each word appear one time only\n",
    "#wordtovec maps words to their vector representation\n",
    "#wordtovec is a neural network, each word is a neuron, probability correction improves overtime\n",
    "wordToVecModel = Word2Vec(processed_words, min_count=1)\n",
    "\n",
    "print(\"working cell\")"
   ]
  },
  {
   "cell_type": "code",
   "execution_count": 12,
   "metadata": {},
   "outputs": [],
   "source": [
    "from sklearn.neighbors import NearestNeighbors\n",
    "import warnings\n",
    "warnings.filterwarnings(\"ignore\", category=DeprecationWarning)\n",
    "\n",
    "def findKNearestNeighbor(wordInput, wordToVecModel, numNeighbors):\n",
    "\n",
    "    \n",
    "    #if word is in the wordtovec model...\n",
    "    if wordInput in wordToVecModel.wv.key_to_index:\n",
    "    #first get vector representation of the word that we input so that we can...\n",
    "    #now find the cosine similarities of this and all other words to perform KNN algorithm\n",
    "    #cosine similarities are essential in natural language processing, they are performed on vectors\n",
    "        word_vector = wordToVecModel.wv.word_vec(wordInput)\n",
    "        print(\"Input word is PRESENT in model vocabulary.\")\n",
    "    # word not found\n",
    "    else:\n",
    "        print(\"Input word NOT found in model vocabulary.\")\n",
    "        \n",
    "    #this is all the vectors inside the wordToVecModel that we created containing every english word\n",
    "    all_word_vectors = wordToVecModel.wv.vectors\n",
    "\n",
    "    #we are going to pass in the number of neighbors below.\n",
    "    #metric is the distance metric, we are using cosine as the distance metric to find similarities\n",
    "    #model is being trained on the variable 'all_word_vectors'\n",
    "    neighbors = NearestNeighbors(numNeighbors, metric='cosine').fit(all_word_vectors)\n",
    "\n",
    "    # kneighbors returns a 2d array with the distances and the indices. \n",
    "    # distances is index 0 / [0]\n",
    "    # indices is index 1 / [1]\n",
    "    #storing this info in the variable 'nearest_neighbors_info'\n",
    "    nearest_neighbors_info = neighbors.kneighbors([word_vector])\n",
    "\n",
    "    #extracting the information and storing it into two variables \n",
    "    # 'distances' variable tells us how far each of the most similar words are from the input word in terms of cosine similarity. \n",
    "    #distances = nearest_neighbors_info[0]\n",
    "\n",
    "    #indices is referring to the closest indices to the input word\n",
    "    indices = nearest_neighbors_info[1]\n",
    "\n",
    "    #list comprehension\n",
    "    # get the most similar words and putting them in list of strings\n",
    "    #we have to remove the input word because we dont want it as a kneighbor\n",
    "    similar_words = [wordToVecModel.index_to_key[i] for i in indices[0] if wordToVecModel.index_to_key[i] != wordInput]\n",
    "\n",
    "    return similar_words\n"
   ]
  },
  {
   "cell_type": "code",
   "execution_count": 7,
   "metadata": {},
   "outputs": [
    {
     "ename": "AttributeError",
     "evalue": "The vocab attribute was removed from KeyedVector in Gensim 4.0.0.\nUse KeyedVector's .key_to_index dict, .index_to_key list, and methods .get_vecattr(key, attr) and .set_vecattr(key, attr, new_val) instead.\nSee https://github.com/RaRe-Technologies/gensim/wiki/Migrating-from-Gensim-3.x-to-4",
     "output_type": "error",
     "traceback": [
      "\u001b[1;31m---------------------------------------------------------------------------\u001b[0m",
      "\u001b[1;31mAttributeError\u001b[0m                            Traceback (most recent call last)",
      "Cell \u001b[1;32mIn[7], line 1\u001b[0m\n\u001b[1;32m----> 1\u001b[0m similar_words \u001b[38;5;241m=\u001b[39m \u001b[43mfindKNearestNeighbor\u001b[49m\u001b[43m(\u001b[49m\u001b[38;5;124;43m'\u001b[39;49m\u001b[38;5;124;43mhello\u001b[39;49m\u001b[38;5;124;43m'\u001b[39;49m\u001b[43m,\u001b[49m\u001b[43m \u001b[49m\u001b[43mwordToVecModel\u001b[49m\u001b[43m,\u001b[49m\u001b[43m \u001b[49m\u001b[38;5;241;43m5\u001b[39;49m\u001b[43m)\u001b[49m\n\u001b[0;32m      2\u001b[0m \u001b[38;5;28mprint\u001b[39m(similar_words)\n",
      "Cell \u001b[1;32mIn[6], line 9\u001b[0m, in \u001b[0;36mfindKNearestNeighbor\u001b[1;34m(wordInput, wordToVecModel, numNeighbors)\u001b[0m\n\u001b[0;32m      5\u001b[0m \u001b[38;5;28;01mdef\u001b[39;00m \u001b[38;5;21mfindKNearestNeighbor\u001b[39m(wordInput, wordToVecModel, numNeighbors):\n\u001b[0;32m      6\u001b[0m \n\u001b[0;32m      7\u001b[0m     \n\u001b[0;32m      8\u001b[0m     \u001b[38;5;66;03m#if word is in the wordtovec model...\u001b[39;00m\n\u001b[1;32m----> 9\u001b[0m     \u001b[38;5;28;01mif\u001b[39;00m wordInput \u001b[38;5;129;01min\u001b[39;00m \u001b[43mwordToVecModel\u001b[49m\u001b[38;5;241;43m.\u001b[39;49m\u001b[43mwv\u001b[49m\u001b[38;5;241;43m.\u001b[39;49m\u001b[43mvocab\u001b[49m:\n\u001b[0;32m     10\u001b[0m     \u001b[38;5;66;03m#first get vector representation of the word that we input so that we can...\u001b[39;00m\n\u001b[0;32m     11\u001b[0m     \u001b[38;5;66;03m#now find the cosine similarities of this and all other words to perform KNN algorithm\u001b[39;00m\n\u001b[0;32m     12\u001b[0m     \u001b[38;5;66;03m#cosine similarities are essential in natural language processing, they are performed on vectors\u001b[39;00m\n\u001b[0;32m     13\u001b[0m         word_vector \u001b[38;5;241m=\u001b[39m wordToVecModel\u001b[38;5;241m.\u001b[39mwv\u001b[38;5;241m.\u001b[39mword_vec(wordInput)\n\u001b[0;32m     14\u001b[0m         \u001b[38;5;28mprint\u001b[39m(\u001b[38;5;124m\"\u001b[39m\u001b[38;5;124mInput word is PRESENT in model vocabulary.\u001b[39m\u001b[38;5;124m\"\u001b[39m)\n",
      "File \u001b[1;32m~\\AppData\\Local\\Packages\\PythonSoftwareFoundation.Python.3.10_qbz5n2kfra8p0\\LocalCache\\local-packages\\Python310\\site-packages\\gensim\\models\\keyedvectors.py:734\u001b[0m, in \u001b[0;36mKeyedVectors.vocab\u001b[1;34m(self)\u001b[0m\n\u001b[0;32m    732\u001b[0m \u001b[38;5;129m@property\u001b[39m\n\u001b[0;32m    733\u001b[0m \u001b[38;5;28;01mdef\u001b[39;00m \u001b[38;5;21mvocab\u001b[39m(\u001b[38;5;28mself\u001b[39m):\n\u001b[1;32m--> 734\u001b[0m     \u001b[38;5;28;01mraise\u001b[39;00m \u001b[38;5;167;01mAttributeError\u001b[39;00m(\n\u001b[0;32m    735\u001b[0m         \u001b[38;5;124m\"\u001b[39m\u001b[38;5;124mThe vocab attribute was removed from KeyedVector in Gensim 4.0.0.\u001b[39m\u001b[38;5;130;01m\\n\u001b[39;00m\u001b[38;5;124m\"\u001b[39m\n\u001b[0;32m    736\u001b[0m         \u001b[38;5;124m\"\u001b[39m\u001b[38;5;124mUse KeyedVector\u001b[39m\u001b[38;5;124m'\u001b[39m\u001b[38;5;124ms .key_to_index dict, .index_to_key list, and methods \u001b[39m\u001b[38;5;124m\"\u001b[39m\n\u001b[0;32m    737\u001b[0m         \u001b[38;5;124m\"\u001b[39m\u001b[38;5;124m.get_vecattr(key, attr) and .set_vecattr(key, attr, new_val) instead.\u001b[39m\u001b[38;5;130;01m\\n\u001b[39;00m\u001b[38;5;124m\"\u001b[39m\n\u001b[0;32m    738\u001b[0m         \u001b[38;5;124m\"\u001b[39m\u001b[38;5;124mSee https://github.com/RaRe-Technologies/gensim/wiki/Migrating-from-Gensim-3.x-to-4\u001b[39m\u001b[38;5;124m\"\u001b[39m\n\u001b[0;32m    739\u001b[0m     )\n",
      "\u001b[1;31mAttributeError\u001b[0m: The vocab attribute was removed from KeyedVector in Gensim 4.0.0.\nUse KeyedVector's .key_to_index dict, .index_to_key list, and methods .get_vecattr(key, attr) and .set_vecattr(key, attr, new_val) instead.\nSee https://github.com/RaRe-Technologies/gensim/wiki/Migrating-from-Gensim-3.x-to-4"
     ]
    }
   ],
   "source": [
    "similar_words = findKNearestNeighbor('hello', wordToVecModel, 5)\n",
    "print(similar_words)"
   ]
  },
  {
   "cell_type": "code",
   "execution_count": null,
   "metadata": {},
   "outputs": [],
   "source": [
    "#creating file for all  words\n",
    "\n",
    "filename = \"allwords.txt\"\n",
    "\n",
    "file = open(filename, \"a\")\n",
    "\n",
    "#converting all the words from corpus to string format so we can put in file\n",
    "words_str = str(words)\n",
    "\n",
    "#saving to file\n",
    "file.write(words_str)\n",
    "\n",
    "file.flush()\n",
    "file.close"
   ]
  },
  {
   "cell_type": "code",
   "execution_count": null,
   "metadata": {},
   "outputs": [],
   "source": [
    "#creating file for all processed words\n",
    "\n",
    "filename = \"allprocessedwords.txt\"\n",
    "\n",
    "file = open(filename, \"a\")\n",
    "\n",
    "#converting all the tokenized words to string format so we can put in file\n",
    "processed_words_str = str(processed_words)\n",
    "\n",
    "#saving to file\n",
    "file.write(processed_words_str)\n",
    "\n",
    "file.flush()\n",
    "file.close"
   ]
  },
  {
   "cell_type": "code",
   "execution_count": null,
   "metadata": {},
   "outputs": [],
   "source": [
    "#creating file for all tokenized words\n",
    "\n",
    "filename = \"alltokenizedwords.txt\"\n",
    "\n",
    "file = open(filename, \"a\")\n",
    "\n",
    "#converting all the tokenized words to string format so we can put in file\n",
    "tokenized_words_str = str(tokenized_words)\n",
    "\n",
    "#saving to file\n",
    "file.write(tokenized_words_str)\n",
    "\n",
    "file.flush()\n",
    "file.close"
   ]
  }
 ],
 "metadata": {
  "kernelspec": {
   "display_name": "Python 3 (ipykernel)",
   "language": "python",
   "name": "python3"
  },
  "language_info": {
   "codemirror_mode": {
    "name": "ipython",
    "version": 3
   },
   "file_extension": ".py",
   "mimetype": "text/x-python",
   "name": "python",
   "nbconvert_exporter": "python",
   "pygments_lexer": "ipython3",
   "version": "3.10.10"
  }
 },
 "nbformat": 4,
 "nbformat_minor": 2
}
