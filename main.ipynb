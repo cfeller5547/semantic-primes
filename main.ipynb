{
 "cells": [
  {
   "cell_type": "code",
   "execution_count": 2,
   "metadata": {},
   "outputs": [
    {
     "name": "stdout",
     "output_type": "stream",
     "text": [
      "3.8.1\n"
     ]
    },
    {
     "name": "stderr",
     "output_type": "stream",
     "text": [
      "[nltk_data] Downloading package words to\n",
      "[nltk_data]     C:\\Users\\chris\\AppData\\Roaming\\nltk_data...\n",
      "[nltk_data]   Package words is already up-to-date!\n",
      "[nltk_data] Downloading package punkt to\n",
      "[nltk_data]     C:\\Users\\chris\\AppData\\Roaming\\nltk_data...\n",
      "[nltk_data]   Package punkt is already up-to-date!\n"
     ]
    }
   ],
   "source": [
    "import nltk\n",
    "print(nltk.__version__)\n",
    "from gensim.models import Word2Vec\n",
    "from nltk.tokenize import word_tokenize\n",
    "nltk.download('words')\n",
    "nltk.download('punkt')\n",
    "\n",
    "#stores every word in english dictionary into a list called 'words'. It imports strings so we have to tokenize them\n",
    "words = nltk.corpus.words.words()\n",
    "\n",
    "#tokenizing the words - puts them into individual words so we can vectorize them\n",
    "tokenized_words = [word_tokenize(word) for word in words]\n",
    "\n",
    "#list comprehension checks if its alphabetic with isalpha(),\n",
    "#if so it puts it in lowercase and stores it in processed_words\n",
    "#the preprocessing of the words cleans them so that they can be effectively used in nlp\n",
    "processed_words = [word.lower() for words in tokenized_words for word in words if word.isalpha()]\n",
    "\n",
    "#training the model, min_count=1 ensures that each word appear one time only\n",
    "#wordtovec maps words to their vector representation\n",
    "#wordtovec is a neural network, each word is a neuron, probability correction improves overtime\n",
    "model = Word2Vec(processed_words, min_count=1)"
   ]
  }
 ],
 "metadata": {
  "kernelspec": {
   "display_name": "semantic-virtualenv",
   "language": "python",
   "name": "python3"
  },
  "language_info": {
   "codemirror_mode": {
    "name": "ipython",
    "version": 3
   },
   "file_extension": ".py",
   "mimetype": "text/x-python",
   "name": "python",
   "nbconvert_exporter": "python",
   "pygments_lexer": "ipython3",
   "version": "3.8.10"
  },
  "orig_nbformat": 4
 },
 "nbformat": 4,
 "nbformat_minor": 2
}
