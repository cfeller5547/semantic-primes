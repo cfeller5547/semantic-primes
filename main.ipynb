{
 "cells": [
  {
   "cell_type": "code",
   "execution_count": 1,
   "metadata": {},
   "outputs": [
    {
     "name": "stdout",
     "output_type": "stream",
     "text": [
      "3.8.1\n"
     ]
    },
    {
     "name": "stderr",
     "output_type": "stream",
     "text": [
      "[nltk_data] Downloading package words to\n",
      "[nltk_data]     C:\\Users\\chris\\AppData\\Roaming\\nltk_data...\n",
      "[nltk_data]   Package words is already up-to-date!\n",
      "[nltk_data] Downloading package punkt to\n",
      "[nltk_data]     C:\\Users\\chris\\AppData\\Roaming\\nltk_data...\n",
      "[nltk_data]   Package punkt is already up-to-date!\n"
     ]
    },
    {
     "name": "stdout",
     "output_type": "stream",
     "text": [
      "['A']\n",
      "['a']\n",
      "['aa']\n",
      "['aal']\n",
      "['aalii']\n",
      "['aam']\n",
      "['Aani']\n",
      "['aardvark']\n",
      "['aardwolf']\n",
      "['Aaron']\n",
      "File already exists, no new data can be added.\n"
     ]
    }
   ],
   "source": [
    "import nltk\n",
    "print(nltk.__version__)\n",
    "from gensim.models import Word2Vec\n",
    "from nltk.tokenize import word_tokenize\n",
    "nltk.download('words')\n",
    "nltk.download('punkt')\n",
    "import os\n",
    "\n",
    "#stores every word in english dictionary into a list called 'words'. It imports strings so we have to tokenize them\n",
    "words = nltk.corpus.words.words()\n",
    "\n",
    "#tokenizing the words - puts them into individual words so we can vectorize them, this is a list of lists\n",
    "tokenized_words = [word_tokenize(word) for word in words]\n",
    "\n",
    "#testing output of some tokenized_words\n",
    "count = 0\n",
    "for word in tokenized_words:\n",
    "    print(word)\n",
    "    count += 1\n",
    "    if count >= 10:\n",
    "        break\n",
    "\n",
    "#list comprehension checks if its alphabetic with isalpha(), and if its lowercase with lower()\n",
    "#the preprocessing of the words cleans them so that they can be effectively used in nlp\n",
    "#the use of a nesting list comprehension is to ensure that we can use word.lower because an inner loop will only contain strings of the sublists from the outer loop\n",
    "processed_words = [[word.lower() for word in words if word.lower().isalpha()] for words in tokenized_words]\n",
    "\n",
    "#training the model, min_count=1 ensures that each word appear one time only\n",
    "#wordtovec maps words to their vector representation\n",
    "#wordtovec is a neural network, each word is a neuron, probability correction improves overtime\n",
    "wordToVecModel = Word2Vec(processed_words, min_count=1)\n",
    "\n",
    "#creating a file with all the words in wordtovec and making sure we dont append to it if already created.\n",
    "if os.path.isfile('all_words_in_wordToVec_model.txt'):\n",
    "    print(\"File already exists, no new data can be added.\")\n",
    "else:\n",
    "    with open('all_words_in_wordToVec_model.txt', 'w') as f:\n",
    "        for word in wordToVecModel.wv.key_to_index:\n",
    "            f.write(\"%s\\n\" % word)"
   ]
  },
  {
   "cell_type": "code",
   "execution_count": 2,
   "metadata": {},
   "outputs": [
    {
     "name": "stdout",
     "output_type": "stream",
     "text": [
      "4.3.0\n"
     ]
    }
   ],
   "source": [
    "import gensim\n",
    "print(gensim.__version__)"
   ]
  },
  {
   "cell_type": "code",
   "execution_count": 2,
   "metadata": {},
   "outputs": [],
   "source": [
    "from sklearn.neighbors import NearestNeighbors\n",
    "import warnings\n",
    "warnings.filterwarnings(\"ignore\", category=DeprecationWarning)\n",
    "\n",
    "\n",
    "def findKNearestNeighbor(wordInput, numNeighbors = 5):\n",
    "\n",
    "    \n",
    "    #if word is in the wordtovec model...\n",
    "    #wv.key_to_index contains words as keys and index as values\n",
    "    if wordInput in wordToVecModel.wv.key_to_index:\n",
    "    #first get vector representation of the word that we input so that we can...\n",
    "    #now find the cosine similarities of this and all other words to perform KNN algorithm\n",
    "    #cosine similarities are essential in natural language processing, they are performed on vectors\n",
    "        word_vector = wordToVecModel.wv.get_vector(wordInput)\n",
    "        print(\"Input word is PRESENT in model vocabulary.\")\n",
    "    # word not found\n",
    "    else:\n",
    "        print(\"Input word NOT found in model vocabulary.\")\n",
    "        return [] #returns an empty list if the word is not found to prevent exceptions\n",
    "        \n",
    "    #this is all the vectors inside the wordToVecModel that we created containing every english word\n",
    "    all_word_vectors = wordToVecModel.wv.vectors\n",
    "    \n",
    "    #we are going to pass in the number of neighbors below.\n",
    "    #metric is the distance metric, we are using cosine as the distance metric to find similarities\n",
    "    #model is being trained on the variable 'all_word_vectors'\n",
    "    neighbors = NearestNeighbors(n_neighbors = numNeighbors, metric='cosine').fit(all_word_vectors)\n",
    "\n",
    "    # kneighbors returns a 2d array with the distances and the indices. \n",
    "    # distances is index 0 / [0]\n",
    "    # indices is index 1 / [1]\n",
    "    #storing this info in the variable 'nearest_neighbors_info'\n",
    "    nearest_neighbors_info = neighbors.kneighbors([word_vector])\n",
    "\n",
    "    #extracting the information and storing it into two variables \n",
    "    # 'distances' variable tells us how far each of the most similar words are from the input word in terms of cosine similarity. \n",
    "    #distances = nearest_neighbors_info[0]\n",
    "\n",
    "    #indices is referring to the closest indices to the input word\n",
    "    indices = nearest_neighbors_info[1]\n",
    "\n",
    "    #list comprehension\n",
    "    # get the most similar words and putting them in list of strings\n",
    "    #we have to remove the input word because we dont want it as a kneighbor\n",
    "    similar_words = [wordToVecModel.wv.index_to_key[i] for i in indices[0] if wordToVecModel.wv.index_to_key != wordInput]\n",
    "\n",
    "    return similar_words"
   ]
  },
  {
   "cell_type": "code",
   "execution_count": 5,
   "metadata": {},
   "outputs": [
    {
     "name": "stdout",
     "output_type": "stream",
     "text": [
      "Input word is PRESENT in model vocabulary.\n",
      "['observe', 'volumetric', 'casaun', 'snagrel', 'koftgar', 'hangdog', 'nephroparalysis', 'hypocrize', 'jedcock', 'occasionality']\n"
     ]
    }
   ],
   "source": [
    "similar_words = findKNearestNeighbor(\"observe\", 10)\n",
    "print(similar_words)\n"
   ]
  },
  {
   "cell_type": "code",
   "execution_count": null,
   "metadata": {},
   "outputs": [],
   "source": [
    "#creating file for all  words\n",
    "\n",
    "filename = \"allwords.txt\"\n",
    "\n",
    "file = open(filename, \"a\")\n",
    "\n",
    "#converting all the words from corpus to string format so we can put in file\n",
    "words_str = str(words)\n",
    "\n",
    "#saving to file\n",
    "file.write(words_str)\n",
    "\n",
    "file.flush()\n",
    "file.close"
   ]
  },
  {
   "cell_type": "code",
   "execution_count": null,
   "metadata": {},
   "outputs": [],
   "source": [
    "#creating file for all processed words\n",
    "\n",
    "filename = \"allprocessedwords.txt\"\n",
    "\n",
    "file = open(filename, \"a\")\n",
    "\n",
    "#converting all the tokenized words to string format so we can put in file\n",
    "processed_words_str = str(processed_words)\n",
    "\n",
    "#saving to file\n",
    "file.write(processed_words_str)\n",
    "\n",
    "file.flush()\n",
    "file.close"
   ]
  },
  {
   "cell_type": "code",
   "execution_count": null,
   "metadata": {},
   "outputs": [],
   "source": [
    "#creating file for all tokenized words\n",
    "\n",
    "filename = \"alltokenizedwords.txt\"\n",
    "\n",
    "file = open(filename, \"a\")\n",
    "\n",
    "#converting all the tokenized words to string format so we can put in file\n",
    "tokenized_words_str = str(tokenized_words)\n",
    "\n",
    "#saving to file\n",
    "file.write(tokenized_words_str)\n",
    "\n",
    "file.flush()\n",
    "file.close"
   ]
  }
 ],
 "metadata": {
  "kernelspec": {
   "display_name": "semantic-virtualenv",
   "language": "python",
   "name": "python3"
  },
  "language_info": {
   "codemirror_mode": {
    "name": "ipython",
    "version": 3
   },
   "file_extension": ".py",
   "mimetype": "text/x-python",
   "name": "python",
   "nbconvert_exporter": "python",
   "pygments_lexer": "ipython3",
   "version": "3.8.10"
  }
 },
 "nbformat": 4,
 "nbformat_minor": 2
}
