{
 "cells": [
  {
   "cell_type": "code",
   "execution_count": 63,
   "metadata": {},
   "outputs": [
    {
     "name": "stdout",
     "output_type": "stream",
     "text": [
      "3.8.1\n"
     ]
    },
    {
     "name": "stderr",
     "output_type": "stream",
     "text": [
      "[nltk_data] Downloading package words to\n",
      "[nltk_data]     C:\\Users\\chris\\AppData\\Roaming\\nltk_data...\n",
      "[nltk_data]   Package words is already up-to-date!\n",
      "[nltk_data] Downloading package punkt to\n",
      "[nltk_data]     C:\\Users\\chris\\AppData\\Roaming\\nltk_data...\n",
      "[nltk_data]   Package punkt is already up-to-date!\n"
     ]
    }
   ],
   "source": [
    "import nltk\n",
    "print(nltk.__version__)\n",
    "from gensim.models import Word2Vec\n",
    "from nltk.tokenize import word_tokenize\n",
    "nltk.download('words')\n",
    "nltk.download('punkt')\n",
    "\n",
    "#stores every word in english dictionary into a list called 'words'. It imports strings so we have to tokenize them\n",
    "words = nltk.corpus.words.words()\n",
    "\n",
    "#tokenizing the words - puts them into individual words so we can vectorize them\n",
    "tokenized_words = [word_tokenize(word) for word in words]\n",
    "\n",
    "#list comprehension checks if its alphabetic with isalpha(),\n",
    "#if so it puts it in lowercase and stores it in processed_words\n",
    "#the preprocessing of the words cleans them so that they can be effectively used in nlp\n",
    "processed_words = [word.lower() for words in tokenized_words for word in words if word.isalpha()]\n",
    "\n",
    "#training the model, min_count=1 ensures that each word appear one time only\n",
    "#wordtovec maps words to their vector representation\n",
    "#wordtovec is a neural network, each word is a neuron, probability correction improves overtime\n",
    "wordToVecModel = Word2Vec(processed_words, min_count=1)"
   ]
  },
  {
   "cell_type": "code",
   "execution_count": 74,
   "metadata": {},
   "outputs": [],
   "source": [
    "import numpy as np\n",
    "from sklearn.neighbors import NearestNeighbors\n",
    "import warnings\n",
    "warnings.filterwarnings(\"ignore\", category=DeprecationWarning)\n",
    "\n",
    "def findKNearestNeighbor(wordInput, wordToVecModel, numNeighbors):\n",
    "\n",
    "    #first get vector representation of the word that we input so that we can...\n",
    "    #now find the cosine similarities of this and all other words to perform KNN algorithm\n",
    "    #cosine similarities are essential in natural language processing, they are performed on vectors\n",
    "    word_vector = wordToVecModel.wv.word_vec(wordInput)\n",
    "\n",
    "    #this is all the vectors inside the wordToVecModel that we created containing every english word\n",
    "    all_word_vectors = wordToVecModel.wv.vectors\n",
    "\n",
    "    #we are going to pass in the number of neighbors below.\n",
    "    #metric is the distance metric, we are using cosine as the distance metric to find similarities\n",
    "    #model is being trained on the variable 'all_word_vectors'\n",
    "    neighbors = NearestNeighbors(numNeighbors, metric='cosine').fit(all_word_vectors)\n",
    "\n",
    "    # kneighbors returns a 2d array with the distances and the indices. \n",
    "    # distances is index 0 / [0]\n",
    "    # indices is index 1 / [1]\n",
    "    #storing this info in the variable 'nearest_neighbors_info'\n",
    "    nearest_neighbors_info = neighbors.kneighbors([word_vector])\n",
    "\n",
    "    #extracting the information and storing it into two variables \n",
    "\n",
    "    # 'distances' variable tells us how far each of the most similar words are from the input word in terms of cosine similarity. \n",
    "    distances = nearest_neighbors_info[0]\n",
    "\n",
    "    #indices is referring to the closest indices to the input word\n",
    "    indices = nearest_neighbors_info[1]\n",
    "\n",
    "    #list comprehension\n",
    "    # get the most similar words and putting them in list of strings\n",
    "    #we have to remove the input word because we dont want it as a kneighbor\n",
    "    similar_words = (wordToVecModel.index_to_key[i] for i in indices[0] if wordToVecModel.index_to_key[i] != wordInput)\n",
    "\n",
    "    return similar_words\n"
   ]
  },
  {
   "cell_type": "code",
   "execution_count": 65,
   "metadata": {},
   "outputs": [
    {
     "ename": "KeyError",
     "evalue": "\"Key 'hello' not present\"",
     "output_type": "error",
     "traceback": [
      "\u001b[1;31m---------------------------------------------------------------------------\u001b[0m",
      "\u001b[1;31mKeyError\u001b[0m                                  Traceback (most recent call last)",
      "Cell \u001b[1;32mIn[65], line 1\u001b[0m\n\u001b[1;32m----> 1\u001b[0m similar_words \u001b[39m=\u001b[39m findKNearestNeighbor(\u001b[39m'\u001b[39;49m\u001b[39mhello\u001b[39;49m\u001b[39m'\u001b[39;49m, wordToVecModel, \u001b[39m5\u001b[39;49m)\n\u001b[0;32m      2\u001b[0m \u001b[39mprint\u001b[39m(similar_words)\n",
      "Cell \u001b[1;32mIn[64], line 11\u001b[0m, in \u001b[0;36mfindKNearestNeighbor\u001b[1;34m(wordInput, wordToVecModel, numNeighbors)\u001b[0m\n\u001b[0;32m      6\u001b[0m \u001b[39mdef\u001b[39;00m \u001b[39mfindKNearestNeighbor\u001b[39m(wordInput, wordToVecModel, numNeighbors):\n\u001b[0;32m      7\u001b[0m \n\u001b[0;32m      8\u001b[0m     \u001b[39m#first get vector representation of the word that we input so that we can...\u001b[39;00m\n\u001b[0;32m      9\u001b[0m     \u001b[39m#now find the cosine similarities of this and all other words to perform KNN algorithm\u001b[39;00m\n\u001b[0;32m     10\u001b[0m     \u001b[39m#cosine similarities are essential in natural language processing, they are performed on vectors\u001b[39;00m\n\u001b[1;32m---> 11\u001b[0m     word_vector \u001b[39m=\u001b[39m wordToVecModel\u001b[39m.\u001b[39;49mwv\u001b[39m.\u001b[39;49mword_vec(wordInput)\n\u001b[0;32m     13\u001b[0m     \u001b[39m#this is all the vectors inside the wordToVecModel that we created containing every english word\u001b[39;00m\n\u001b[0;32m     14\u001b[0m     all_word_vectors \u001b[39m=\u001b[39m wordToVecModel\u001b[39m.\u001b[39mwv\u001b[39m.\u001b[39mvectors\n",
      "File \u001b[1;32mc:\\Users\\chris\\OneDrive\\test\\semantic-virtualenv\\lib\\site-packages\\gensim\\utils.py:1522\u001b[0m, in \u001b[0;36mdeprecated.<locals>.decorator.<locals>.new_func1\u001b[1;34m(*args, **kwargs)\u001b[0m\n\u001b[0;32m   1515\u001b[0m \u001b[39m@wraps\u001b[39m(func)\n\u001b[0;32m   1516\u001b[0m \u001b[39mdef\u001b[39;00m \u001b[39mnew_func1\u001b[39m(\u001b[39m*\u001b[39margs, \u001b[39m*\u001b[39m\u001b[39m*\u001b[39mkwargs):\n\u001b[0;32m   1517\u001b[0m     warnings\u001b[39m.\u001b[39mwarn(\n\u001b[0;32m   1518\u001b[0m         fmt\u001b[39m.\u001b[39mformat(name\u001b[39m=\u001b[39mfunc\u001b[39m.\u001b[39m\u001b[39m__name__\u001b[39m, reason\u001b[39m=\u001b[39mreason),\n\u001b[0;32m   1519\u001b[0m         category\u001b[39m=\u001b[39m\u001b[39mDeprecationWarning\u001b[39;00m,\n\u001b[0;32m   1520\u001b[0m         stacklevel\u001b[39m=\u001b[39m\u001b[39m2\u001b[39m\n\u001b[0;32m   1521\u001b[0m     )\n\u001b[1;32m-> 1522\u001b[0m     \u001b[39mreturn\u001b[39;00m func(\u001b[39m*\u001b[39;49margs, \u001b[39m*\u001b[39;49m\u001b[39m*\u001b[39;49mkwargs)\n",
      "File \u001b[1;32mc:\\Users\\chris\\OneDrive\\test\\semantic-virtualenv\\lib\\site-packages\\gensim\\models\\keyedvectors.py:459\u001b[0m, in \u001b[0;36mKeyedVectors.word_vec\u001b[1;34m(self, *args, **kwargs)\u001b[0m\n\u001b[0;32m    456\u001b[0m \u001b[39m@deprecated\u001b[39m(\u001b[39m\"\u001b[39m\u001b[39mUse get_vector instead\u001b[39m\u001b[39m\"\u001b[39m)\n\u001b[0;32m    457\u001b[0m \u001b[39mdef\u001b[39;00m \u001b[39mword_vec\u001b[39m(\u001b[39mself\u001b[39m, \u001b[39m*\u001b[39margs, \u001b[39m*\u001b[39m\u001b[39m*\u001b[39mkwargs):\n\u001b[0;32m    458\u001b[0m \u001b[39m    \u001b[39m\u001b[39m\"\"\"Compatibility alias for get_vector(); must exist so subclass calls reach subclass get_vector().\"\"\"\u001b[39;00m\n\u001b[1;32m--> 459\u001b[0m     \u001b[39mreturn\u001b[39;00m \u001b[39mself\u001b[39;49m\u001b[39m.\u001b[39;49mget_vector(\u001b[39m*\u001b[39;49margs, \u001b[39m*\u001b[39;49m\u001b[39m*\u001b[39;49mkwargs)\n",
      "File \u001b[1;32mc:\\Users\\chris\\OneDrive\\test\\semantic-virtualenv\\lib\\site-packages\\gensim\\models\\keyedvectors.py:446\u001b[0m, in \u001b[0;36mKeyedVectors.get_vector\u001b[1;34m(self, key, norm)\u001b[0m\n\u001b[0;32m    422\u001b[0m \u001b[39mdef\u001b[39;00m \u001b[39mget_vector\u001b[39m(\u001b[39mself\u001b[39m, key, norm\u001b[39m=\u001b[39m\u001b[39mFalse\u001b[39;00m):\n\u001b[0;32m    423\u001b[0m \u001b[39m    \u001b[39m\u001b[39m\"\"\"Get the key's vector, as a 1D numpy array.\u001b[39;00m\n\u001b[0;32m    424\u001b[0m \n\u001b[0;32m    425\u001b[0m \u001b[39m    Parameters\u001b[39;00m\n\u001b[1;32m   (...)\u001b[0m\n\u001b[0;32m    444\u001b[0m \n\u001b[0;32m    445\u001b[0m \u001b[39m    \"\"\"\u001b[39;00m\n\u001b[1;32m--> 446\u001b[0m     index \u001b[39m=\u001b[39m \u001b[39mself\u001b[39;49m\u001b[39m.\u001b[39;49mget_index(key)\n\u001b[0;32m    447\u001b[0m     \u001b[39mif\u001b[39;00m norm:\n\u001b[0;32m    448\u001b[0m         \u001b[39mself\u001b[39m\u001b[39m.\u001b[39mfill_norms()\n",
      "File \u001b[1;32mc:\\Users\\chris\\OneDrive\\test\\semantic-virtualenv\\lib\\site-packages\\gensim\\models\\keyedvectors.py:420\u001b[0m, in \u001b[0;36mKeyedVectors.get_index\u001b[1;34m(self, key, default)\u001b[0m\n\u001b[0;32m    418\u001b[0m     \u001b[39mreturn\u001b[39;00m default\n\u001b[0;32m    419\u001b[0m \u001b[39melse\u001b[39;00m:\n\u001b[1;32m--> 420\u001b[0m     \u001b[39mraise\u001b[39;00m \u001b[39mKeyError\u001b[39;00m(\u001b[39mf\u001b[39m\u001b[39m\"\u001b[39m\u001b[39mKey \u001b[39m\u001b[39m'\u001b[39m\u001b[39m{\u001b[39;00mkey\u001b[39m}\u001b[39;00m\u001b[39m'\u001b[39m\u001b[39m not present\u001b[39m\u001b[39m\"\u001b[39m)\n",
      "\u001b[1;31mKeyError\u001b[0m: \"Key 'hello' not present\""
     ]
    }
   ],
   "source": [
    "similar_words = findKNearestNeighbor('hello', wordToVecModel, 5)\n",
    "print(similar_words)"
   ]
  },
  {
   "cell_type": "code",
   "execution_count": 78,
   "metadata": {},
   "outputs": [
    {
     "data": {
      "text/plain": [
       "<function TextIOWrapper.close()>"
      ]
     },
     "execution_count": 78,
     "metadata": {},
     "output_type": "execute_result"
    }
   ],
   "source": [
    "filename = \"allwords.txt\"\n",
    "\n",
    "file = open(filename, \"a\")\n",
    "\n",
    "#converting all the words from corpus to string format so we can put in file\n",
    "words_str = str(words)\n",
    "\n",
    "#saving to file\n",
    "file.write(words_str)\n",
    "\n",
    "file.flush()\n",
    "file.close"
   ]
  }
 ],
 "metadata": {
  "kernelspec": {
   "display_name": "semantic-virtualenv",
   "language": "python",
   "name": "python3"
  },
  "language_info": {
   "codemirror_mode": {
    "name": "ipython",
    "version": 3
   },
   "file_extension": ".py",
   "mimetype": "text/x-python",
   "name": "python",
   "nbconvert_exporter": "python",
   "pygments_lexer": "ipython3",
   "version": "3.8.10"
  },
  "orig_nbformat": 4
 },
 "nbformat": 4,
 "nbformat_minor": 2
}
